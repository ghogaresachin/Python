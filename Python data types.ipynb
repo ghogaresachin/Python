{
 "cells": [
  {
   "cell_type": "markdown",
   "id": "53247b0d",
   "metadata": {},
   "source": [
    "## chapter 2: Python Data types"
   ]
  },
  {
   "cell_type": "markdown",
   "id": "56af56a6",
   "metadata": {},
   "source": [
    "## 1.String "
   ]
  },
  {
   "cell_type": "code",
   "execution_count": 1,
   "id": "5da0b46f",
   "metadata": {},
   "outputs": [
    {
     "name": "stdout",
     "output_type": "stream",
     "text": [
      "Hello world\n",
      "Hello\n",
      "o\n"
     ]
    }
   ],
   "source": [
    "a='Hello world'\n",
    "print(a)\n",
    "print(a[0:5])\n",
    "print(a[4])"
   ]
  },
  {
   "cell_type": "markdown",
   "id": "2125de17",
   "metadata": {},
   "source": [
    "## 2.Set"
   ]
  },
  {
   "cell_type": "code",
   "execution_count": 2,
   "id": "d68b579f",
   "metadata": {},
   "outputs": [
    {
     "data": {
      "text/plain": [
       "{'S', 'a', 'c', 'i', 's', 't'}"
      ]
     },
     "execution_count": 2,
     "metadata": {},
     "output_type": "execute_result"
    }
   ],
   "source": [
    "a=set('Statistics')        # Unique letters in a\n",
    "a"
   ]
  },
  {
   "cell_type": "code",
   "execution_count": 3,
   "id": "0a022d04",
   "metadata": {},
   "outputs": [
    {
     "data": {
      "text/plain": [
       "frozenset({'S', 'a', 'c', 'i', 's', 't'})"
      ]
     },
     "execution_count": 3,
     "metadata": {},
     "output_type": "execute_result"
    }
   ],
   "source": [
    "a=frozenset('Statistics')\n",
    "a"
   ]
  },
  {
   "cell_type": "markdown",
   "id": "0d84a9d3",
   "metadata": {},
   "source": [
    "## 3.Numbers"
   ]
  },
  {
   "cell_type": "code",
   "execution_count": 4,
   "id": "66683c69",
   "metadata": {},
   "outputs": [
    {
     "name": "stdout",
     "output_type": "stream",
     "text": [
      "10\n",
      "5.6\n",
      "3.14j\n",
      "1234567\n"
     ]
    }
   ],
   "source": [
    "int=10\n",
    "print(int)\n",
    "float=5.6\n",
    "print(float)\n",
    "complex=3.14j\n",
    "print(complex)\n",
    "long=1234567        # Long value \n",
    "print(long)"
   ]
  },
  {
   "cell_type": "markdown",
   "id": "ccfc8945",
   "metadata": {},
   "source": [
    "## 4.List "
   ]
  },
  {
   "cell_type": "code",
   "execution_count": 5,
   "id": "7c19f32d",
   "metadata": {},
   "outputs": [
    {
     "name": "stdout",
     "output_type": "stream",
     "text": [
      "[123, 'stat', 10.5]\n",
      "[123, 'stat']\n",
      "stat\n",
      "[123, 'stat', 10.5, 123, 'stat', 10.5]\n",
      "[18, 'python', 123, 'stat', 10.5]\n"
     ]
    }
   ],
   "source": [
    "# Lists are mutable\n",
    "list=[123,'stat',10.5]\n",
    "list1=[18,'python']\n",
    "print(list)\n",
    "print(list[0:2])\n",
    "print(list[-2])\n",
    "print(list*2)             # It gives the list two times\n",
    "print(list1+list)         # It adds two lists"
   ]
  },
  {
   "cell_type": "markdown",
   "id": "757218ae",
   "metadata": {},
   "source": [
    "## 5.Dictionary "
   ]
  },
  {
   "cell_type": "code",
   "execution_count": 6,
   "id": "055f1be4",
   "metadata": {},
   "outputs": [
    {
     "name": "stdout",
     "output_type": "stream",
     "text": [
      "{'name': 'Python', 'age': 10}\n",
      "Python\n",
      "dict_values(['Python', 10])\n",
      "dict_keys(['name', 'age'])\n"
     ]
    }
   ],
   "source": [
    "dic={'name':'Python','age':10}\n",
    "print(dic)\n",
    "print(dic['name'])                # It gives value assigned by \"name\"\n",
    "print(dic.values())               # It gives list of values assigned in dictionary\n",
    "print(dic.keys())                 # It gives lists of keys"
   ]
  },
  {
   "cell_type": "markdown",
   "id": "6e421178",
   "metadata": {},
   "source": [
    "## 6.Tuple"
   ]
  },
  {
   "cell_type": "code",
   "execution_count": 7,
   "id": "6c7a18d8",
   "metadata": {},
   "outputs": [
    {
     "name": "stdout",
     "output_type": "stream",
     "text": [
      "(345, 'statistics')\n",
      "345\n",
      "statistics\n"
     ]
    }
   ],
   "source": [
    "# Tupples are immutable\n",
    "tuple=(345,\"statistics\")\n",
    "print(tuple)\n",
    "print(tuple[-2])\n",
    "#print(tuple[1,'math'])\n",
    "print(tuple[-1])"
   ]
  },
  {
   "cell_type": "code",
   "execution_count": 8,
   "id": "5478b417",
   "metadata": {},
   "outputs": [
    {
     "name": "stdout",
     "output_type": "stream",
     "text": [
      "{2, 3, 4, 5}\n",
      "{2, 3, 4, 5}\n",
      "{1, 2, 3, 4, 5}\n",
      "{1, 2, 3, 4, 5}\n"
     ]
    }
   ],
   "source": [
    "a={1,2,3,4,5}\n",
    "b={2,3,4,5}\n",
    "print(a&(b))                  # Intersection of two sets\n",
    "print(a.intersection(b))      # Intersection of two sets\n",
    "print(a.union(b))             # Union of two sets\n",
    "print(a|b)                    # Union of two sets"
   ]
  },
  {
   "cell_type": "code",
   "execution_count": 9,
   "id": "313a986d",
   "metadata": {},
   "outputs": [
    {
     "data": {
      "text/plain": [
       "{1, 2}"
      ]
     },
     "execution_count": 9,
     "metadata": {},
     "output_type": "execute_result"
    }
   ],
   "source": [
    "s={1,2,3}\n",
    "s.discard(3)\n",
    "s"
   ]
  },
  {
   "cell_type": "code",
   "execution_count": 10,
   "id": "23096a01",
   "metadata": {},
   "outputs": [],
   "source": [
    "from collections import Counter"
   ]
  },
  {
   "cell_type": "code",
   "execution_count": 11,
   "id": "9fec9a3a",
   "metadata": {},
   "outputs": [
    {
     "data": {
      "text/plain": [
       "Counter({'a': 1, 'b': 2, 'c': 1})"
      ]
     },
     "execution_count": 11,
     "metadata": {},
     "output_type": "execute_result"
    }
   ],
   "source": [
    "a=Counter(['a','b','b','c'])\n",
    "a"
   ]
  },
  {
   "cell_type": "code",
   "execution_count": 12,
   "id": "0871ba4a",
   "metadata": {},
   "outputs": [],
   "source": [
    "a,v,d,f=2,4,5,6"
   ]
  },
  {
   "cell_type": "code",
   "execution_count": 13,
   "id": "29a7d543",
   "metadata": {},
   "outputs": [
    {
     "data": {
      "text/plain": [
       "0.5"
      ]
     },
     "execution_count": 13,
     "metadata": {},
     "output_type": "execute_result"
    }
   ],
   "source": [
    "a/v"
   ]
  },
  {
   "cell_type": "code",
   "execution_count": 14,
   "id": "fb69f04f",
   "metadata": {},
   "outputs": [
    {
     "data": {
      "text/plain": [
       "0.3333333333333333"
      ]
     },
     "execution_count": 14,
     "metadata": {},
     "output_type": "execute_result"
    }
   ],
   "source": [
    "\n",
    "a/f"
   ]
  },
  {
   "cell_type": "code",
   "execution_count": 15,
   "id": "9dc5f8ea",
   "metadata": {},
   "outputs": [],
   "source": [
    "import operator"
   ]
  },
  {
   "cell_type": "code",
   "execution_count": 16,
   "id": "f5dd607a",
   "metadata": {},
   "outputs": [
    {
     "data": {
      "text/plain": [
       "6"
      ]
     },
     "execution_count": 16,
     "metadata": {},
     "output_type": "execute_result"
    }
   ],
   "source": [
    "operator.add(a,v)"
   ]
  },
  {
   "cell_type": "code",
   "execution_count": 17,
   "id": "3014cec0",
   "metadata": {},
   "outputs": [],
   "source": [
    "import math \n",
    "import cmath"
   ]
  },
  {
   "cell_type": "code",
   "execution_count": 18,
   "id": "9081afea",
   "metadata": {},
   "outputs": [
    {
     "data": {
      "text/plain": [
       "(2.23606797749979+0j)"
      ]
     },
     "execution_count": 18,
     "metadata": {},
     "output_type": "execute_result"
    }
   ],
   "source": [
    "c=5\n",
    "math.sqrt(c)\n",
    "cmath.sqrt(c)"
   ]
  },
  {
   "cell_type": "code",
   "execution_count": 19,
   "id": "522fd695",
   "metadata": {},
   "outputs": [
    {
     "data": {
      "text/plain": [
       "3.0"
      ]
     },
     "execution_count": 19,
     "metadata": {},
     "output_type": "execute_result"
    }
   ],
   "source": [
    "x=27           \n",
    "math.pow(x,1/3)       # It gives cube root of x"
   ]
  },
  {
   "cell_type": "code",
   "execution_count": 20,
   "id": "324c5176",
   "metadata": {},
   "outputs": [
    {
     "data": {
      "text/plain": [
       "-0.3048106211022167"
      ]
     },
     "execution_count": 20,
     "metadata": {},
     "output_type": "execute_result"
    }
   ],
   "source": [
    "a=60\n",
    "math.sin(a)"
   ]
  },
  {
   "cell_type": "code",
   "execution_count": 21,
   "id": "2785867f",
   "metadata": {},
   "outputs": [
    {
     "data": {
      "text/plain": [
       "1.6094379124341003"
      ]
     },
     "execution_count": 21,
     "metadata": {},
     "output_type": "execute_result"
    }
   ],
   "source": [
    "math.log(5)"
   ]
  },
  {
   "cell_type": "code",
   "execution_count": 22,
   "id": "92fee07e",
   "metadata": {},
   "outputs": [
    {
     "name": "stdout",
     "output_type": "stream",
     "text": [
      "Number is greater than 2\n"
     ]
    }
   ],
   "source": [
    "n=13\n",
    "if n>2:\n",
    "    print(\"Number is greater than 2\")\n",
    "else:\n",
    "    print('Number is less than 2')"
   ]
  },
  {
   "cell_type": "code",
   "execution_count": 23,
   "id": "275d0303",
   "metadata": {},
   "outputs": [
    {
     "name": "stdout",
     "output_type": "stream",
     "text": [
      "Number is greater than 5\n"
     ]
    }
   ],
   "source": [
    "n=10\n",
    "if n>5:\n",
    "    print('Number is greater than 5')\n",
    "elif n<5:\n",
    "    print(\"number is smaller than 5\")\n",
    "else:\n",
    "    print(\"Number is 5\")"
   ]
  },
  {
   "cell_type": "code",
   "execution_count": 24,
   "id": "6ec9c4b1",
   "metadata": {},
   "outputs": [
    {
     "name": "stdout",
     "output_type": "stream",
     "text": [
      "Yes\n"
     ]
    }
   ],
   "source": [
    "a=3\n",
    "b=6\n",
    "if a>=3 and b>4:\n",
    "    print('Yes')\n",
    "else:\n",
    "    print('No')"
   ]
  },
  {
   "cell_type": "code",
   "execution_count": 25,
   "id": "477d043f",
   "metadata": {},
   "outputs": [
    {
     "data": {
      "text/plain": [
       "True"
      ]
     },
     "execution_count": 25,
     "metadata": {},
     "output_type": "execute_result"
    }
   ],
   "source": [
    "a='Rohit'\n",
    "b='Rohit'\n",
    "a is b"
   ]
  },
  {
   "cell_type": "code",
   "execution_count": 26,
   "id": "72aeb13d",
   "metadata": {},
   "outputs": [
    {
     "name": "stdout",
     "output_type": "stream",
     "text": [
      "2\n",
      "3\n",
      "4\n",
      "5\n",
      "6\n"
     ]
    }
   ],
   "source": [
    "i=2\n",
    "while i<8:\n",
    "    print(i)\n",
    "    if i==6:\n",
    "        break\n",
    "    i=i+1"
   ]
  },
  {
   "cell_type": "code",
   "execution_count": 27,
   "id": "905603c3",
   "metadata": {},
   "outputs": [],
   "source": [
    "for i in (0,1,2,3,4,5):\n",
    "    if i==5:\n",
    "        break\n",
    "        print(i)"
   ]
  },
  {
   "cell_type": "code",
   "execution_count": 28,
   "id": "4d609a4e",
   "metadata": {},
   "outputs": [],
   "source": [
    "def break_all():\n",
    "    for j in range(1,5):\n",
    "        for i in range(1,4):\n",
    "            if i+j==6:\n",
    "                return(i)"
   ]
  },
  {
   "cell_type": "code",
   "execution_count": 29,
   "id": "ca5ffef1",
   "metadata": {},
   "outputs": [
    {
     "name": "stdout",
     "output_type": "stream",
     "text": [
      "0\n",
      "1\n",
      "2\n",
      "3\n",
      "4\n"
     ]
    }
   ],
   "source": [
    "for i in [0,1,2,3,4]:\n",
    "    print(i)"
   ]
  },
  {
   "cell_type": "code",
   "execution_count": 30,
   "id": "1e29d6c8",
   "metadata": {},
   "outputs": [
    {
     "name": "stdout",
     "output_type": "stream",
     "text": [
      "0\n",
      "1\n",
      "2\n",
      "3\n",
      "4\n",
      "5\n",
      "6\n",
      "7\n",
      "8\n",
      "9\n"
     ]
    }
   ],
   "source": [
    "for i in range(10):\n",
    "    print(i)"
   ]
  },
  {
   "cell_type": "code",
   "execution_count": 31,
   "id": "99b4ea7d",
   "metadata": {},
   "outputs": [],
   "source": [
    "from array import*"
   ]
  },
  {
   "cell_type": "code",
   "execution_count": 32,
   "id": "d172038a",
   "metadata": {},
   "outputs": [
    {
     "name": "stdout",
     "output_type": "stream",
     "text": [
      "3\n"
     ]
    }
   ],
   "source": [
    "my_array=array('i',[1,2,3,4,5])\n",
    "print(my_array[-3])"
   ]
  },
  {
   "cell_type": "code",
   "execution_count": 33,
   "id": "72cc3183",
   "metadata": {},
   "outputs": [
    {
     "name": "stdout",
     "output_type": "stream",
     "text": [
      "1\n"
     ]
    }
   ],
   "source": [
    "print(my_array[0])"
   ]
  },
  {
   "cell_type": "code",
   "execution_count": 34,
   "id": "e9b9e6f6",
   "metadata": {},
   "outputs": [
    {
     "name": "stdout",
     "output_type": "stream",
     "text": [
      "1\n",
      "2\n",
      "3\n",
      "4\n",
      "5\n"
     ]
    }
   ],
   "source": [
    "for i in my_array:\n",
    "    print(i)"
   ]
  },
  {
   "cell_type": "code",
   "execution_count": 35,
   "id": "f0433223",
   "metadata": {},
   "outputs": [
    {
     "data": {
      "text/plain": [
       "array('i', [0, 1, 2, 3, 4, 5])"
      ]
     },
     "execution_count": 35,
     "metadata": {},
     "output_type": "execute_result"
    }
   ],
   "source": [
    "my_array.insert(0,0)\n",
    "my_array"
   ]
  },
  {
   "cell_type": "code",
   "execution_count": 36,
   "id": "872e112c",
   "metadata": {},
   "outputs": [
    {
     "data": {
      "text/plain": [
       "array('i', [0, 1, 2, 3, 4, 5, 11, 12, 14])"
      ]
     },
     "execution_count": 36,
     "metadata": {},
     "output_type": "execute_result"
    }
   ],
   "source": [
    "c=[11,12,14]\n",
    "my_array.fromlist(c)\n",
    "my_array"
   ]
  },
  {
   "cell_type": "code",
   "execution_count": 37,
   "id": "b7e82f14",
   "metadata": {},
   "outputs": [
    {
     "data": {
      "text/plain": [
       "array('i', [0, 1, 2, 3, 4, 11, 12, 14])"
      ]
     },
     "execution_count": 37,
     "metadata": {},
     "output_type": "execute_result"
    }
   ],
   "source": [
    "my_array.remove(5)\n",
    "my_array"
   ]
  },
  {
   "cell_type": "code",
   "execution_count": 38,
   "id": "8a26ec5a",
   "metadata": {},
   "outputs": [
    {
     "data": {
      "text/plain": [
       "(2716160965632, 8)"
      ]
     },
     "execution_count": 38,
     "metadata": {},
     "output_type": "execute_result"
    }
   ],
   "source": [
    "my_array.buffer_info()"
   ]
  },
  {
   "cell_type": "code",
   "execution_count": 39,
   "id": "17a910e2",
   "metadata": {},
   "outputs": [
    {
     "data": {
      "text/plain": [
       "[7, 8, 9]"
      ]
     },
     "execution_count": 39,
     "metadata": {},
     "output_type": "execute_result"
    }
   ],
   "source": [
    "lst=[[1,2,3],[4,5,6],[7,8,9]]\n",
    "lst[0]\n",
    "lst[2]"
   ]
  },
  {
   "cell_type": "code",
   "execution_count": 40,
   "id": "bd6410bb",
   "metadata": {},
   "outputs": [
    {
     "name": "stdout",
     "output_type": "stream",
     "text": [
      "5\n"
     ]
    }
   ],
   "source": [
    "print(lst[1][1])"
   ]
  },
  {
   "cell_type": "code",
   "execution_count": 41,
   "id": "2b9a10b2",
   "metadata": {},
   "outputs": [],
   "source": [
    "fish={'name':1,'hands':2,'special':'3'}\n",
    "dog={'name':'prasanna','Name':'Yogesh','nAme':'sachin'}\n",
    "fishdog={**fish,**dog}\n"
   ]
  },
  {
   "cell_type": "code",
   "execution_count": null,
   "id": "27de79a5",
   "metadata": {},
   "outputs": [],
   "source": []
  }
 ],
 "metadata": {
  "kernelspec": {
   "display_name": "Python 3 (ipykernel)",
   "language": "python",
   "name": "python3"
  },
  "language_info": {
   "codemirror_mode": {
    "name": "ipython",
    "version": 3
   },
   "file_extension": ".py",
   "mimetype": "text/x-python",
   "name": "python",
   "nbconvert_exporter": "python",
   "pygments_lexer": "ipython3",
   "version": "3.10.2"
  }
 },
 "nbformat": 4,
 "nbformat_minor": 5
}
