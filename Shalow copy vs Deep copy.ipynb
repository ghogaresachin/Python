{
 "cells": [
  {
   "cell_type": "markdown",
   "id": "3ef56d33",
   "metadata": {},
   "source": [
    "# =, copy, deepcopy()"
   ]
  },
  {
   "cell_type": "markdown",
   "id": "deb76a4b",
   "metadata": {},
   "source": [
    "## = Operation"
   ]
  },
  {
   "cell_type": "code",
   "execution_count": 1,
   "id": "ebb14ee5",
   "metadata": {},
   "outputs": [],
   "source": [
    "lst1=[1,2,3,4,5]\n",
    "lst2=lst1"
   ]
  },
  {
   "cell_type": "code",
   "execution_count": 2,
   "id": "9e82ac41",
   "metadata": {},
   "outputs": [],
   "source": [
    "lst2[1]=200"
   ]
  },
  {
   "cell_type": "code",
   "execution_count": 3,
   "id": "f307ac5d",
   "metadata": {},
   "outputs": [
    {
     "data": {
      "text/plain": [
       "[1, 200, 3, 4, 5]"
      ]
     },
     "execution_count": 3,
     "metadata": {},
     "output_type": "execute_result"
    }
   ],
   "source": [
    "lst2"
   ]
  },
  {
   "cell_type": "code",
   "execution_count": 4,
   "id": "9b1a8c26",
   "metadata": {},
   "outputs": [
    {
     "data": {
      "text/plain": [
       "[1, 200, 3, 4, 5]"
      ]
     },
     "execution_count": 4,
     "metadata": {},
     "output_type": "execute_result"
    }
   ],
   "source": [
    "lst1             # If we create a copy of list and make some changes in it then the changes are also happen in the original list"
   ]
  },
  {
   "cell_type": "markdown",
   "id": "da925cdd",
   "metadata": {},
   "source": [
    "## copy operation or shallow copy"
   ]
  },
  {
   "cell_type": "code",
   "execution_count": 6,
   "id": "9c8aef80",
   "metadata": {},
   "outputs": [],
   "source": [
    "lst1=[1,2,3,4,5]\n",
    "lst2=lst1.copy()"
   ]
  },
  {
   "cell_type": "code",
   "execution_count": 9,
   "id": "6cb82c89",
   "metadata": {},
   "outputs": [],
   "source": [
    "lst2[3]=500"
   ]
  },
  {
   "cell_type": "code",
   "execution_count": 10,
   "id": "6ddaec28",
   "metadata": {},
   "outputs": [
    {
     "data": {
      "text/plain": [
       "[1, 2, 3, 500, 5]"
      ]
     },
     "execution_count": 10,
     "metadata": {},
     "output_type": "execute_result"
    }
   ],
   "source": [
    "lst2"
   ]
  },
  {
   "cell_type": "code",
   "execution_count": 12,
   "id": "ee4a834e",
   "metadata": {},
   "outputs": [
    {
     "data": {
      "text/plain": [
       "[1, 2, 3, 4, 5]"
      ]
     },
     "execution_count": 12,
     "metadata": {},
     "output_type": "execute_result"
    }
   ],
   "source": [
    "lst1             # In normal list if we create a copy of list and make some changes in it then the changes are not gonna affect original list"
   ]
  },
  {
   "cell_type": "code",
   "execution_count": 25,
   "id": "9fe168c1",
   "metadata": {},
   "outputs": [
    {
     "data": {
      "text/plain": [
       "[[200, 2, 3, 4, 5], [6, 7, 8, 9, 0]]"
      ]
     },
     "execution_count": 25,
     "metadata": {},
     "output_type": "execute_result"
    }
   ],
   "source": [
    "# Nested list\n",
    "lst1=[[1,2,3,4,5],[6,7,8,9,0]]   #In more than one dimensional array if we make some changes in copied array then then the changes are also happen in original array\n",
    "lst2=lst1.copy()\n",
    "lst2[0][0]=200\n",
    "lst2"
   ]
  },
  {
   "cell_type": "code",
   "execution_count": 23,
   "id": "a5b4df10",
   "metadata": {},
   "outputs": [
    {
     "data": {
      "text/plain": [
       "[[200, 2, 3, 4, 5], [6, 7, 8, 9, 0]]"
      ]
     },
     "execution_count": 23,
     "metadata": {},
     "output_type": "execute_result"
    }
   ],
   "source": [
    " lst1"
   ]
  },
  {
   "cell_type": "markdown",
   "id": "dbd61530",
   "metadata": {},
   "source": [
    "## deepcopy"
   ]
  },
  {
   "cell_type": "code",
   "execution_count": 2,
   "id": "230abfae",
   "metadata": {},
   "outputs": [],
   "source": [
    "import copy"
   ]
  },
  {
   "cell_type": "code",
   "execution_count": 3,
   "id": "5e0ce72f",
   "metadata": {},
   "outputs": [],
   "source": [
    "lst1=[1,2,3,4]\n",
    "lst2=copy.deepcopy(lst1)"
   ]
  },
  {
   "cell_type": "code",
   "execution_count": 6,
   "id": "7238f6d9",
   "metadata": {},
   "outputs": [
    {
     "data": {
      "text/plain": [
       "[1, 2, 400, 4]"
      ]
     },
     "execution_count": 6,
     "metadata": {},
     "output_type": "execute_result"
    }
   ],
   "source": [
    "lst2[2]=400\n",
    "lst2"
   ]
  },
  {
   "cell_type": "code",
   "execution_count": 7,
   "id": "84df91be",
   "metadata": {},
   "outputs": [
    {
     "data": {
      "text/plain": [
       "[1, 2, 3, 4]"
      ]
     },
     "execution_count": 7,
     "metadata": {},
     "output_type": "execute_result"
    }
   ],
   "source": [
    "lst1"
   ]
  },
  {
   "cell_type": "code",
   "execution_count": 8,
   "id": "1907c665",
   "metadata": {},
   "outputs": [],
   "source": [
    "# In normal list shalow copy == deepcopy"
   ]
  },
  {
   "cell_type": "code",
   "execution_count": 27,
   "id": "3e8a9f66",
   "metadata": {},
   "outputs": [],
   "source": [
    "lst1=[[1,2,3],[4,5,6],[7,8,9]]    # If we make changes in copied list then the changes are not gonna happen in original list in more than one dimensional array\n",
    "lst2=copy.deepcopy(lst1)"
   ]
  },
  {
   "cell_type": "code",
   "execution_count": 14,
   "id": "c42ec4cb",
   "metadata": {},
   "outputs": [
    {
     "data": {
      "text/plain": [
       "[[1, 2, 3], [4, 5, 6], [7, 8, 200]]"
      ]
     },
     "execution_count": 14,
     "metadata": {},
     "output_type": "execute_result"
    }
   ],
   "source": [
    "lst2[2][2]=200\n",
    "lst2"
   ]
  },
  {
   "cell_type": "code",
   "execution_count": 15,
   "id": "b0644a8b",
   "metadata": {},
   "outputs": [
    {
     "data": {
      "text/plain": [
       "[[1, 2, 3], [4, 5, 6], [7, 8, 9]]"
      ]
     },
     "execution_count": 15,
     "metadata": {},
     "output_type": "execute_result"
    }
   ],
   "source": [
    "lst1"
   ]
  },
  {
   "cell_type": "code",
   "execution_count": null,
   "id": "a9820c17",
   "metadata": {},
   "outputs": [],
   "source": []
  }
 ],
 "metadata": {
  "kernelspec": {
   "display_name": "Python 3 (ipykernel)",
   "language": "python",
   "name": "python3"
  },
  "language_info": {
   "codemirror_mode": {
    "name": "ipython",
    "version": 3
   },
   "file_extension": ".py",
   "mimetype": "text/x-python",
   "name": "python",
   "nbconvert_exporter": "python",
   "pygments_lexer": "ipython3",
   "version": "3.10.2"
  }
 },
 "nbformat": 4,
 "nbformat_minor": 5
}
