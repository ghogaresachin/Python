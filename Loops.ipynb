{
 "cells": [
  {
   "cell_type": "markdown",
   "id": "d151436f",
   "metadata": {},
   "source": [
    "# For Loop"
   ]
  },
  {
   "cell_type": "code",
   "execution_count": 1,
   "id": "8f216b20",
   "metadata": {},
   "outputs": [],
   "source": [
    "mylist=[1,2,3,4,5,6,7,8,9,10]"
   ]
  },
  {
   "cell_type": "code",
   "execution_count": 2,
   "id": "6db71323",
   "metadata": {},
   "outputs": [
    {
     "name": "stdout",
     "output_type": "stream",
     "text": [
      "1\n",
      "2\n",
      "3\n",
      "4\n",
      "5\n",
      "6\n",
      "7\n",
      "8\n",
      "9\n",
      "10\n"
     ]
    }
   ],
   "source": [
    "for num in mylist:\n",
    "    print(num)"
   ]
  },
  {
   "cell_type": "code",
   "execution_count": 3,
   "id": "05a68700",
   "metadata": {},
   "outputs": [
    {
     "name": "stdout",
     "output_type": "stream",
     "text": [
      "Hello\n",
      "Hello\n",
      "Hello\n",
      "Hello\n",
      "Hello\n",
      "Hello\n",
      "Hello\n",
      "Hello\n",
      "Hello\n",
      "Hello\n"
     ]
    }
   ],
   "source": [
    "for num in mylist:\n",
    "    print('Hello')"
   ]
  },
  {
   "cell_type": "code",
   "execution_count": 4,
   "id": "018ce6fa",
   "metadata": {},
   "outputs": [
    {
     "name": "stdout",
     "output_type": "stream",
     "text": [
      "2\n",
      "4\n",
      "6\n",
      "8\n",
      "10\n"
     ]
    }
   ],
   "source": [
    "#print all the even numbers from the list\n",
    "for i in mylist:\n",
    "    if i%2==0:\n",
    "        print(i)"
   ]
  },
  {
   "cell_type": "code",
   "execution_count": 5,
   "id": "a488149b",
   "metadata": {},
   "outputs": [
    {
     "name": "stdout",
     "output_type": "stream",
     "text": [
      "55\n"
     ]
    }
   ],
   "source": [
    "#Write a programm for getting the sum of a particular list\n",
    "sum=0\n",
    "for i in mylist:\n",
    "    sum=sum+i\n",
    "    \n",
    "print(sum)"
   ]
  },
  {
   "cell_type": "code",
   "execution_count": 6,
   "id": "8df98897",
   "metadata": {},
   "outputs": [
    {
     "name": "stdout",
     "output_type": "stream",
     "text": [
      "H\n",
      "e\n",
      "l\n",
      "l\n",
      "o\n",
      " \n",
      "W\n",
      "o\n",
      "r\n",
      "l\n",
      "d\n"
     ]
    }
   ],
   "source": [
    "mystring='Hello World'\n",
    "\n",
    "for letter in mystring:\n",
    "    print(letter)"
   ]
  },
  {
   "cell_type": "code",
   "execution_count": 7,
   "id": "187f1b65",
   "metadata": {},
   "outputs": [
    {
     "name": "stdout",
     "output_type": "stream",
     "text": [
      "1\n",
      "2\n",
      "3\n",
      "4\n"
     ]
    }
   ],
   "source": [
    "# Tuple\n",
    "tup=(1,2,3,4)\n",
    "for i in tup:\n",
    "    print(i)"
   ]
  },
  {
   "cell_type": "code",
   "execution_count": 8,
   "id": "9bb8a641",
   "metadata": {},
   "outputs": [
    {
     "name": "stdout",
     "output_type": "stream",
     "text": [
      "1\n",
      "3\n",
      "5\n",
      "7\n"
     ]
    }
   ],
   "source": [
    "mylist=[(1,2),(3,4),(5,6),(7,8)]\n",
    "for i in mylist:\n",
    "    print(i[0])"
   ]
  },
  {
   "cell_type": "code",
   "execution_count": 9,
   "id": "5c638d20",
   "metadata": {},
   "outputs": [
    {
     "data": {
      "text/plain": [
       "4"
      ]
     },
     "execution_count": 9,
     "metadata": {},
     "output_type": "execute_result"
    }
   ],
   "source": [
    "len(mylist)"
   ]
  },
  {
   "cell_type": "code",
   "execution_count": 12,
   "id": "ad32ba7b",
   "metadata": {},
   "outputs": [
    {
     "name": "stdout",
     "output_type": "stream",
     "text": [
      "1\n",
      "2\n",
      "3\n",
      "4\n",
      "5\n",
      "6\n",
      "7\n",
      "8\n"
     ]
    }
   ],
   "source": [
    "for (a,b) in mylist:\n",
    "    print(a)\n",
    "    print(b)"
   ]
  },
  {
   "cell_type": "code",
   "execution_count": 13,
   "id": "dc465e1f",
   "metadata": {},
   "outputs": [
    {
     "name": "stdout",
     "output_type": "stream",
     "text": [
      "1\n",
      "3\n",
      "5\n",
      "7\n"
     ]
    }
   ],
   "source": [
    "for (a,b) in mylist:\n",
    "    print(a)"
   ]
  },
  {
   "cell_type": "code",
   "execution_count": 14,
   "id": "24988b47",
   "metadata": {},
   "outputs": [
    {
     "name": "stdout",
     "output_type": "stream",
     "text": [
      "(2, 3, 4)\n",
      "(6, 7, 8)\n",
      "(9, 0, 1)\n"
     ]
    }
   ],
   "source": [
    "mylist=[(2,3,4),(6,7,8),(9,0,1)]\n",
    "for item in mylist:\n",
    "    print(item)"
   ]
  },
  {
   "cell_type": "code",
   "execution_count": 15,
   "id": "731823e4",
   "metadata": {},
   "outputs": [
    {
     "data": {
      "text/plain": [
       "[(2, 3, 4), (6, 7, 8), (9, 0, 1)]"
      ]
     },
     "execution_count": 15,
     "metadata": {},
     "output_type": "execute_result"
    }
   ],
   "source": [
    "mylist"
   ]
  },
  {
   "cell_type": "code",
   "execution_count": 16,
   "id": "6784e7c7",
   "metadata": {},
   "outputs": [
    {
     "name": "stdout",
     "output_type": "stream",
     "text": [
      "('a1', 1)\n",
      "('b1', 2)\n",
      "('c1', 3)\n"
     ]
    }
   ],
   "source": [
    "#Dictionary\n",
    "dict={'a1':1,'b1':2,'c1':3}\n",
    "for item in dict.items():\n",
    "    print(item)"
   ]
  },
  {
   "cell_type": "code",
   "execution_count": 17,
   "id": "738f29e4",
   "metadata": {},
   "outputs": [
    {
     "name": "stdout",
     "output_type": "stream",
     "text": [
      "a1 1\n",
      "b1 2\n",
      "c1 3\n"
     ]
    }
   ],
   "source": [
    "#or\n",
    "dict={'a1':1,'b1':2,'c1':3}\n",
    "for (a,b) in dict.items():\n",
    "    print(a,b)"
   ]
  },
  {
   "cell_type": "code",
   "execution_count": 18,
   "id": "cad3ffd0",
   "metadata": {},
   "outputs": [
    {
     "name": "stdout",
     "output_type": "stream",
     "text": [
      "1\n",
      "2\n",
      "3\n"
     ]
    }
   ],
   "source": [
    "dict={'a1':1,'b1':2,'c1':3}\n",
    "for (a,b) in dict.items():\n",
    "    print(b)"
   ]
  },
  {
   "cell_type": "markdown",
   "id": "03cdfa6b",
   "metadata": {},
   "source": [
    "# While Loop"
   ]
  },
  {
   "cell_type": "code",
   "execution_count": 20,
   "id": "6847e787",
   "metadata": {},
   "outputs": [
    {
     "name": "stdout",
     "output_type": "stream",
     "text": [
      "The number 15 is less than 30\n",
      "The number 16 is less than 30\n",
      "The number 17 is less than 30\n",
      "The number 18 is less than 30\n",
      "The number 19 is less than 30\n",
      "The number 20 is not less than 30\n"
     ]
    }
   ],
   "source": [
    "x=15\n",
    "while x<20:\n",
    "    print(f\"The number {x} is less than 30\")\n",
    "    x=x+1\n",
    "else:\n",
    "    print(f\"The number {x} is not less than 30\")"
   ]
  },
  {
   "cell_type": "markdown",
   "id": "db6d2567",
   "metadata": {},
   "source": [
    "Breaks:Breaks out of the current closest enclosing loop.<br>\n",
    "Continue:Goes to the top of the closest enclosing loop.<br>\n",
    "Pass:Does nothing at all."
   ]
  },
  {
   "cell_type": "code",
   "execution_count": 22,
   "id": "0e78cdd2",
   "metadata": {},
   "outputs": [],
   "source": [
    "x=\"Statistics\""
   ]
  },
  {
   "cell_type": "code",
   "execution_count": 23,
   "id": "c6dca253",
   "metadata": {},
   "outputs": [
    {
     "name": "stdout",
     "output_type": "stream",
     "text": [
      "The given letter S is from the word statistics\n",
      "The given letter a is from the word statistics\n",
      "The given letter i is from the word statistics\n",
      "The given letter s is from the word statistics\n",
      "The given letter i is from the word statistics\n",
      "The given letter c is from the word statistics\n",
      "The given letter s is from the word statistics\n"
     ]
    }
   ],
   "source": [
    "for i in x:\n",
    "    if i=='t':\n",
    "        continue\n",
    "    print(f'The given letter {i} is from the word statistics')"
   ]
  },
  {
   "cell_type": "code",
   "execution_count": 25,
   "id": "aa7d4260",
   "metadata": {},
   "outputs": [
    {
     "name": "stdout",
     "output_type": "stream",
     "text": [
      "The given letter S is from the word statistics\n",
      "The given letter t is from the word statistics\n",
      "The given letter a is from the word statistics\n",
      "The given letter t is from the word statistics\n",
      "The given letter i is from the word statistics\n",
      "The given letter s is from the word statistics\n",
      "The given letter t is from the word statistics\n",
      "The given letter i is from the word statistics\n",
      "The given letter c is from the word statistics\n",
      "The given letter s is from the word statistics\n"
     ]
    }
   ],
   "source": [
    "for i in x:\n",
    "    if i=='t':\n",
    "        pass\n",
    "    print(f'The given letter {i} is from the word statistics')"
   ]
  },
  {
   "cell_type": "code",
   "execution_count": 27,
   "id": "a5d8a7e5",
   "metadata": {},
   "outputs": [
    {
     "name": "stdout",
     "output_type": "stream",
     "text": [
      "The given letter S is from the word statistics\n"
     ]
    }
   ],
   "source": [
    "for i in x:\n",
    "    if i=='t':\n",
    "        break\n",
    "    print(f'The given letter {i} is from the word statistics')"
   ]
  },
  {
   "cell_type": "markdown",
   "id": "f8c3c384",
   "metadata": {},
   "source": [
    "# **************************"
   ]
  },
  {
   "cell_type": "code",
   "execution_count": 28,
   "id": "f801c973",
   "metadata": {},
   "outputs": [
    {
     "name": "stdout",
     "output_type": "stream",
     "text": [
      "0\n",
      "2\n",
      "4\n",
      "6\n",
      "8\n"
     ]
    }
   ],
   "source": [
    "for num in range(0,10,2):\n",
    "    print(num)"
   ]
  },
  {
   "cell_type": "code",
   "execution_count": 29,
   "id": "1fd5cf5f",
   "metadata": {},
   "outputs": [
    {
     "data": {
      "text/plain": [
       "[0, 1, 2, 3, 4, 5, 6, 7, 8, 9]"
      ]
     },
     "execution_count": 29,
     "metadata": {},
     "output_type": "execute_result"
    }
   ],
   "source": [
    "list(range(0,10,1))"
   ]
  },
  {
   "cell_type": "code",
   "execution_count": 30,
   "id": "fbe4f879",
   "metadata": {},
   "outputs": [
    {
     "name": "stdout",
     "output_type": "stream",
     "text": [
      "At index 1 the letter is s\n",
      "At index 2 the letter is t\n",
      "At index 3 the letter is a\n",
      "At index 4 the letter is t\n",
      "At index 5 the letter is i\n",
      "At index 6 the letter is s\n",
      "At index 7 the letter is t\n",
      "At index 8 the letter is i\n",
      "At index 9 the letter is c\n",
      "At index 10 the letter is s\n"
     ]
    }
   ],
   "source": [
    "index=1\n",
    "for letter in \"statistics\":\n",
    "    print(\"At index {} the letter is {}\".format(index,letter))\n",
    "    index +=1"
   ]
  },
  {
   "cell_type": "code",
   "execution_count": 31,
   "id": "66d729aa",
   "metadata": {},
   "outputs": [],
   "source": [
    "#Use of enumerate function to count the index value in the form of tuples."
   ]
  },
  {
   "cell_type": "code",
   "execution_count": 32,
   "id": "b0af2360",
   "metadata": {},
   "outputs": [
    {
     "name": "stdout",
     "output_type": "stream",
     "text": [
      "(0, 's')\n",
      "(1, 't')\n",
      "(2, 'a')\n",
      "(3, 't')\n",
      "(4, 'i')\n",
      "(5, 's')\n",
      "(6, 't')\n",
      "(7, 'i')\n",
      "(8, 'c')\n",
      "(9, 's')\n"
     ]
    }
   ],
   "source": [
    "for item in enumerate('statistics'):\n",
    "    print(item)"
   ]
  },
  {
   "cell_type": "code",
   "execution_count": 36,
   "id": "51bd5b0a",
   "metadata": {},
   "outputs": [
    {
     "name": "stdout",
     "output_type": "stream",
     "text": [
      "0\n",
      "s\n",
      "\n",
      "\n",
      "1\n",
      "t\n",
      "\n",
      "\n",
      "2\n",
      "a\n",
      "\n",
      "\n",
      "3\n",
      "t\n",
      "\n",
      "\n",
      "4\n",
      "i\n",
      "\n",
      "\n",
      "5\n",
      "s\n",
      "\n",
      "\n",
      "6\n",
      "t\n",
      "\n",
      "\n",
      "7\n",
      "i\n",
      "\n",
      "\n",
      "8\n",
      "c\n",
      "\n",
      "\n",
      "9\n",
      "s\n",
      "\n",
      "\n"
     ]
    }
   ],
   "source": [
    "for index,letter in enumerate('statistics'):\n",
    "    print(index)\n",
    "    print(letter)\n",
    "    print(\"\\n\")"
   ]
  },
  {
   "cell_type": "code",
   "execution_count": 37,
   "id": "865b77b3",
   "metadata": {},
   "outputs": [
    {
     "name": "stdout",
     "output_type": "stream",
     "text": [
      "67\n"
     ]
    }
   ],
   "source": [
    "mylist=int(input())"
   ]
  },
  {
   "cell_type": "code",
   "execution_count": 38,
   "id": "a06acd2c",
   "metadata": {},
   "outputs": [],
   "source": [
    "mystring='hello'"
   ]
  },
  {
   "cell_type": "code",
   "execution_count": 39,
   "id": "7fd9ab0e",
   "metadata": {},
   "outputs": [],
   "source": [
    "mylist=[]\n",
    "for i in mystring:\n",
    "    mylist.append(i)"
   ]
  },
  {
   "cell_type": "code",
   "execution_count": 40,
   "id": "cdc4ed38",
   "metadata": {},
   "outputs": [
    {
     "data": {
      "text/plain": [
       "['h', 'e', 'l', 'l', 'o']"
      ]
     },
     "execution_count": 40,
     "metadata": {},
     "output_type": "execute_result"
    }
   ],
   "source": [
    "mylist"
   ]
  },
  {
   "cell_type": "code",
   "execution_count": 43,
   "id": "29aef240",
   "metadata": {},
   "outputs": [],
   "source": [
    "mylist=[]\n",
    "for a in [1,2,3]:\n",
    "    for b in [4,5,6]:\n",
    "        mylist.append(a%b)"
   ]
  },
  {
   "cell_type": "code",
   "execution_count": 44,
   "id": "53d0ef16",
   "metadata": {},
   "outputs": [
    {
     "data": {
      "text/plain": [
       "[1, 1, 1, 2, 2, 2, 3, 3, 3]"
      ]
     },
     "execution_count": 44,
     "metadata": {},
     "output_type": "execute_result"
    }
   ],
   "source": [
    "mylist"
   ]
  },
  {
   "cell_type": "code",
   "execution_count": 49,
   "id": "68effabe",
   "metadata": {},
   "outputs": [
    {
     "data": {
      "text/plain": [
       "[7,\n",
       " 8,\n",
       " 9,\n",
       " 7,\n",
       " 8,\n",
       " 9,\n",
       " 7,\n",
       " 8,\n",
       " 9,\n",
       " 14,\n",
       " 16,\n",
       " 18,\n",
       " 14,\n",
       " 16,\n",
       " 18,\n",
       " 14,\n",
       " 16,\n",
       " 18,\n",
       " 21,\n",
       " 24,\n",
       " 27,\n",
       " 21,\n",
       " 24,\n",
       " 27,\n",
       " 21,\n",
       " 24,\n",
       " 27]"
      ]
     },
     "execution_count": 49,
     "metadata": {},
     "output_type": "execute_result"
    }
   ],
   "source": [
    "#OR\n",
    "mylist=[x%y for x in [1,2,3] for y in [4,5,6]]\n",
    "mylist"
   ]
  },
  {
   "cell_type": "code",
   "execution_count": 50,
   "id": "cecaefe5",
   "metadata": {},
   "outputs": [],
   "source": [
    "st='Print only the word that start with s in this sentence'"
   ]
  },
  {
   "cell_type": "code",
   "execution_count": 52,
   "id": "aecdac7a",
   "metadata": {
    "scrolled": true
   },
   "outputs": [
    {
     "name": "stdout",
     "output_type": "stream",
     "text": [
      "start\n",
      "s\n",
      "sentence\n"
     ]
    }
   ],
   "source": [
    "for word in st.split():\n",
    "    if word[0]=='s':\n",
    "        print(word)"
   ]
  },
  {
   "cell_type": "code",
   "execution_count": null,
   "id": "e657b610",
   "metadata": {},
   "outputs": [],
   "source": []
  },
  {
   "cell_type": "code",
   "execution_count": null,
   "id": "4a235523",
   "metadata": {},
   "outputs": [],
   "source": []
  }
 ],
 "metadata": {
  "kernelspec": {
   "display_name": "Python 3 (ipykernel)",
   "language": "python",
   "name": "python3"
  },
  "language_info": {
   "codemirror_mode": {
    "name": "ipython",
    "version": 3
   },
   "file_extension": ".py",
   "mimetype": "text/x-python",
   "name": "python",
   "nbconvert_exporter": "python",
   "pygments_lexer": "ipython3",
   "version": "3.10.2"
  }
 },
 "nbformat": 4,
 "nbformat_minor": 5
}
