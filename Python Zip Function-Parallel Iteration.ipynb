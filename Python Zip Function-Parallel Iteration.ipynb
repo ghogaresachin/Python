{
 "cells": [
  {
   "cell_type": "markdown",
   "id": "006f713c",
   "metadata": {},
   "source": [
    "###### Zip is combining multiple elements in the form of tuples."
   ]
  },
  {
   "cell_type": "markdown",
   "id": "3b186de6",
   "metadata": {},
   "source": [
    "Interviewr Question- What is zip function?\n",
    "Answer-1.You are able to iterate from multiple iterable.\n",
    "       2.It is an iterable so we can use for loop, statement."
   ]
  },
  {
   "cell_type": "code",
   "execution_count": 2,
   "id": "86e2ee1c",
   "metadata": {},
   "outputs": [],
   "source": [
    "lst1=['Sachin','Rohit','Amol']\n",
    "lst2=['a','b','c']\n",
    "lst3=[1,2,3]"
   ]
  },
  {
   "cell_type": "code",
   "execution_count": 2,
   "id": "091a17c2",
   "metadata": {},
   "outputs": [
    {
     "name": "stdout",
     "output_type": "stream",
     "text": [
      "Sachin\n",
      "Rohit\n",
      "Amol\n"
     ]
    }
   ],
   "source": [
    "for i in lst1:\n",
    "    print(i)"
   ]
  },
  {
   "cell_type": "code",
   "execution_count": 6,
   "id": "d2cb0eb9",
   "metadata": {},
   "outputs": [],
   "source": [
    "output=zip(lst1,lst2)"
   ]
  },
  {
   "cell_type": "code",
   "execution_count": 7,
   "id": "c86e5909",
   "metadata": {},
   "outputs": [
    {
     "data": {
      "text/plain": [
       "[('Sachin', 'a'), ('Rohit', 'b'), ('Amol', 'c')]"
      ]
     },
     "execution_count": 7,
     "metadata": {},
     "output_type": "execute_result"
    }
   ],
   "source": [
    "list(output)"
   ]
  },
  {
   "cell_type": "markdown",
   "id": "408bf2b8",
   "metadata": {},
   "source": [
    "#### Zip object is an iterator"
   ]
  },
  {
   "cell_type": "code",
   "execution_count": 8,
   "id": "389220da",
   "metadata": {},
   "outputs": [
    {
     "ename": "StopIteration",
     "evalue": "",
     "output_type": "error",
     "traceback": [
      "\u001b[1;31m---------------------------------------------------------------------------\u001b[0m",
      "\u001b[1;31mStopIteration\u001b[0m                             Traceback (most recent call last)",
      "Input \u001b[1;32mIn [8]\u001b[0m, in \u001b[0;36m<module>\u001b[1;34m\u001b[0m\n\u001b[1;32m----> 1\u001b[0m \u001b[38;5;28;43mnext\u001b[39;49m\u001b[43m(\u001b[49m\u001b[43moutput\u001b[49m\u001b[43m)\u001b[49m\n",
      "\u001b[1;31mStopIteration\u001b[0m: "
     ]
    }
   ],
   "source": [
    "next(output)"
   ]
  },
  {
   "cell_type": "code",
   "execution_count": 8,
   "id": "603e7e3a",
   "metadata": {},
   "outputs": [
    {
     "name": "stdout",
     "output_type": "stream",
     "text": [
      "Sachin a 1\n"
     ]
    }
   ],
   "source": [
    "output=zip(lst1,lst2,lst3)\n",
    "for i,j,k in output:\n",
    "    print(i,j,k)\n",
    "    break\n",
    "    "
   ]
  },
  {
   "cell_type": "code",
   "execution_count": 10,
   "id": "520a17bc",
   "metadata": {},
   "outputs": [],
   "source": [
    "dict1={'name':'Sachin','last_name':'Ghogare','age':22}\n",
    "dict2={'name':'Rohit','last_name':'Kulat','age':22}"
   ]
  },
  {
   "cell_type": "code",
   "execution_count": 11,
   "id": "df5f082c",
   "metadata": {},
   "outputs": [],
   "source": [
    "dictionary=zip(dict1.items(),dict2.items())"
   ]
  },
  {
   "cell_type": "code",
   "execution_count": 14,
   "id": "bc921b3e",
   "metadata": {},
   "outputs": [],
   "source": [
    "for (i,j),(i2,j2) in dictionary:\n",
    "    print(i,j)\n",
    "    print(i2,j2)"
   ]
  },
  {
   "cell_type": "code",
   "execution_count": null,
   "id": "cae2a5cf",
   "metadata": {},
   "outputs": [],
   "source": []
  }
 ],
 "metadata": {
  "kernelspec": {
   "display_name": "Python 3 (ipykernel)",
   "language": "python",
   "name": "python3"
  },
  "language_info": {
   "codemirror_mode": {
    "name": "ipython",
    "version": 3
   },
   "file_extension": ".py",
   "mimetype": "text/x-python",
   "name": "python",
   "nbconvert_exporter": "python",
   "pygments_lexer": "ipython3",
   "version": "3.10.2"
  }
 },
 "nbformat": 4,
 "nbformat_minor": 5
}
