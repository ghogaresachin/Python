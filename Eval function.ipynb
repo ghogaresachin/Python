{
 "cells": [
  {
   "cell_type": "code",
   "execution_count": 1,
   "id": "5bf2e67b",
   "metadata": {},
   "outputs": [
    {
     "data": {
      "text/plain": [
       "8"
      ]
     },
     "execution_count": 1,
     "metadata": {},
     "output_type": "execute_result"
    }
   ],
   "source": [
    "## Eval function  evaluate python expressions which are written as strings\n",
    "eval('6+2')"
   ]
  },
  {
   "cell_type": "code",
   "execution_count": 2,
   "id": "16de997a",
   "metadata": {},
   "outputs": [
    {
     "data": {
      "text/plain": [
       "30.75"
      ]
     },
     "execution_count": 2,
     "metadata": {},
     "output_type": "execute_result"
    }
   ],
   "source": [
    "eval('5*6+3/4')"
   ]
  },
  {
   "cell_type": "code",
   "execution_count": 5,
   "id": "11074c44",
   "metadata": {},
   "outputs": [],
   "source": [
    "def square_num(num):\n",
    "    return num**2"
   ]
  },
  {
   "cell_type": "code",
   "execution_count": 7,
   "id": "c893c39f",
   "metadata": {},
   "outputs": [
    {
     "data": {
      "text/plain": [
       "4"
      ]
     },
     "execution_count": 7,
     "metadata": {},
     "output_type": "execute_result"
    }
   ],
   "source": [
    "eval('square_num(2)')"
   ]
  },
  {
   "cell_type": "markdown",
   "id": "33deb7e6",
   "metadata": {},
   "source": [
    "How does Eval work\n",
    "1. Parse python Expression\n",
    "2. Compile into a byte code\n",
    "3. Evaluate the python expression\n",
    "4. it will return the result"
   ]
  },
  {
   "cell_type": "code",
   "execution_count": 9,
   "id": "3d421c2c",
   "metadata": {},
   "outputs": [],
   "source": [
    "var=compile('5*5','<string>','eval')"
   ]
  },
  {
   "cell_type": "code",
   "execution_count": 10,
   "id": "3e4254df",
   "metadata": {},
   "outputs": [
    {
     "data": {
      "text/plain": [
       "25"
      ]
     },
     "execution_count": 10,
     "metadata": {},
     "output_type": "execute_result"
    }
   ],
   "source": [
    "eval(var)"
   ]
  },
  {
   "cell_type": "code",
   "execution_count": 11,
   "id": "7ad6bd36",
   "metadata": {},
   "outputs": [],
   "source": [
    "# Globals"
   ]
  },
  {
   "cell_type": "code",
   "execution_count": 12,
   "id": "41141e60",
   "metadata": {},
   "outputs": [
    {
     "data": {
      "text/plain": [
       "80"
      ]
     },
     "execution_count": 12,
     "metadata": {},
     "output_type": "execute_result"
    }
   ],
   "source": [
    "X=5\n",
    "eval(\"x+50+x**2\",{'x':X})"
   ]
  },
  {
   "cell_type": "code",
   "execution_count": 13,
   "id": "b5e60eea",
   "metadata": {},
   "outputs": [
    {
     "data": {
      "text/plain": [
       "6"
      ]
     },
     "execution_count": 13,
     "metadata": {},
     "output_type": "execute_result"
    }
   ],
   "source": [
    "x=2\n",
    "y=3\n",
    "eval(\"x*y\",{\"x\":x,\"y\":y})"
   ]
  },
  {
   "cell_type": "code",
   "execution_count": 16,
   "id": "73b3ad30",
   "metadata": {},
   "outputs": [
    {
     "data": {
      "text/plain": [
       "False"
      ]
     },
     "execution_count": 16,
     "metadata": {},
     "output_type": "execute_result"
    }
   ],
   "source": [
    "a=50\n",
    "b=45\n",
    "eval(\"a<b\")"
   ]
  },
  {
   "cell_type": "code",
   "execution_count": null,
   "id": "7e6c8ab8",
   "metadata": {},
   "outputs": [],
   "source": []
  }
 ],
 "metadata": {
  "kernelspec": {
   "display_name": "Python 3 (ipykernel)",
   "language": "python",
   "name": "python3"
  },
  "language_info": {
   "codemirror_mode": {
    "name": "ipython",
    "version": 3
   },
   "file_extension": ".py",
   "mimetype": "text/x-python",
   "name": "python",
   "nbconvert_exporter": "python",
   "pygments_lexer": "ipython3",
   "version": "3.10.2"
  }
 },
 "nbformat": 4,
 "nbformat_minor": 5
}
