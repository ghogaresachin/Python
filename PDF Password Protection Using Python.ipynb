{
 "cells": [
  {
   "cell_type": "code",
   "execution_count": 1,
   "id": "2581abd2",
   "metadata": {},
   "outputs": [
    {
     "name": "stdout",
     "output_type": "stream",
     "text": [
      "Requirement already satisfied: PyPDF2 in c:\\users\\sachi\\appdata\\local\\programs\\python\\python310\\lib\\site-packages (1.26.0)\n"
     ]
    },
    {
     "name": "stderr",
     "output_type": "stream",
     "text": [
      "WARNING: You are using pip version 22.0.3; however, version 22.2.2 is available.\n",
      "You should consider upgrading via the 'C:\\Users\\sachi\\AppData\\Local\\Programs\\Python\\Python310\\python.exe -m pip install --upgrade pip' command.\n"
     ]
    }
   ],
   "source": [
    "!pip install PyPDF2"
   ]
  },
  {
   "cell_type": "code",
   "execution_count": 2,
   "id": "e462c5ab",
   "metadata": {},
   "outputs": [],
   "source": [
    "from PyPDF2 import PdfFileReader,PdfFileWriter"
   ]
  },
  {
   "cell_type": "code",
   "execution_count": 10,
   "id": "53e47a08",
   "metadata": {},
   "outputs": [],
   "source": [
    "## Open the current \n",
    "file_pdf=PdfFileReader('C:\\\\Users\\\\sachi\\\\Downloads\\\\Sagar Biodata.pdf')\n",
    "## Object for pdf writer\n",
    "out_pdf=PdfFileWriter()"
   ]
  },
  {
   "cell_type": "code",
   "execution_count": 11,
   "id": "5f76c097",
   "metadata": {},
   "outputs": [],
   "source": [
    "for i in range(file_pdf.numPages):\n",
    "    page_details=file_pdf.getPage(i)\n",
    "    # Add to the output page\n",
    "    out_pdf.addPage(page_details)"
   ]
  },
  {
   "cell_type": "code",
   "execution_count": 12,
   "id": "a1fa4277",
   "metadata": {},
   "outputs": [],
   "source": [
    "password='3303'\n",
    "out_pdf.encrypt(password)"
   ]
  },
  {
   "cell_type": "code",
   "execution_count": 13,
   "id": "ef1433ec",
   "metadata": {},
   "outputs": [],
   "source": [
    "with open('EncryptedBiodata.pdf','wb') as filename:\n",
    "    out_pdf.write(filename)"
   ]
  },
  {
   "cell_type": "code",
   "execution_count": null,
   "id": "1b37f652",
   "metadata": {},
   "outputs": [],
   "source": []
  }
 ],
 "metadata": {
  "kernelspec": {
   "display_name": "Python 3 (ipykernel)",
   "language": "python",
   "name": "python3"
  },
  "language_info": {
   "codemirror_mode": {
    "name": "ipython",
    "version": 3
   },
   "file_extension": ".py",
   "mimetype": "text/x-python",
   "name": "python",
   "nbconvert_exporter": "python",
   "pygments_lexer": "ipython3",
   "version": "3.10.2"
  }
 },
 "nbformat": 4,
 "nbformat_minor": 5
}
